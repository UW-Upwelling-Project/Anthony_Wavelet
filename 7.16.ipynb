{
 "cells": [
  {
   "cell_type": "code",
   "execution_count": null,
   "id": "7390ed75-9007-44f3-a16b-1008cfb82f95",
   "metadata": {},
   "outputs": [],
   "source": [
    "import os\n",
    "import pywt\n",
    "#from wavelets.wave_python.waveletFunctions import *\n",
    "import itertools\n",
    "import numpy as np\n",
    "import pandas as pd\n",
    "from scipy.fftpack import fft\n",
    "from collections import Counter\n",
    "import matplotlib.pyplot as plt\n",
    "import matplotlib.gridspec as gridspec\n",
    "from mpl_toolkits.axes_grid1 import make_axes_locatable\n",
    "\n",
    "import matplotlib.pyplot as plt\n",
    "import matplotlib.gridspec as gridspec\n",
    "import matplotlib.patches as patches"
   ]
  },
  {
   "cell_type": "code",
   "execution_count": null,
   "id": "c801c160-a5bf-4730-952b-45f0e626b9f3",
   "metadata": {},
   "outputs": [],
   "source": [
    "def upwell(ektrxs, ektrys, coast_angle):\n",
    "    pi = 3.141592653\n",
    "    degtorad = pi/180.\n",
    "    alpha = (360 - coast_angle) * degtorad\n",
    "    s1 = np.cos(alpha)\n",
    "    t1 = np.sin(alpha)\n",
    "    s2 = -1 * t1\n",
    "    t2 = s1\n",
    "    res = []\n",
    "    for x, y in zip(ektrxs, ektrys):\n",
    "        x = float(x)\n",
    "        y = float(y)\n",
    "        perp = (s1 * x) + (t1 * y)\n",
    "        para = (s2 * x) + (t2 * y)\n",
    "        res.append(perp/10)\n",
    "    return(res)\n",
    "df_30_whole = pd.read_csv('1982-22-30.csv')\n",
    "df_30_whole = df_30_whole.iloc[1: , :]\n",
    "df_30_whole['combined'] = upwell(df_30_whole['ektrx'], df_30_whole['ektry'], 210)\n",
    "df_30_whole"
   ]
  },
  {
   "cell_type": "code",
   "execution_count": null,
   "id": "017f22ae-7c62-4d46-a64c-cd63fa614b44",
   "metadata": {},
   "outputs": [],
   "source": [
    "N = df_30_whole.shape[0]\n",
    "t0=1982\n",
    "dt= (1/12)\n",
    "time = np.arange(0, N) * dt + t0\n",
    "signal = df_30_whole['combined'].values\n",
    "plt.figure(figsize=(15, 10))\n",
    "plt.plot(time, signal)\n",
    "plt.title('Signal', fontsize=18)\n",
    "plt.ylabel('value', fontsize=18)\n",
    "plt.xlabel('year', fontsize=18)\n",
    "plt.show()"
   ]
  },
  {
   "cell_type": "code",
   "execution_count": null,
   "id": "9b24a2c9-c9c0-4047-8500-2e285b7700eb",
   "metadata": {},
   "outputs": [],
   "source": [
    "def get_fft_values(y_values, T, N, f_s):\n",
    "    N2 = 2 ** (int(np.log2(N)) + 1) # round up to next highest power of 2\n",
    "    f_values = np.linspace(0.0, 1.0/(2.0*T), N2//2)\n",
    "    fft_values_ = fft(y_values)\n",
    "    fft_values = 2.0/N2 * np.abs(fft_values_[0:N2//2])\n",
    "    return f_values, fft_values\n",
    "\n",
    "# def plot_fft_plus_power(ax, time, signal, plot_direction='horizontal', yticks=None, ylim=None):\n",
    "#     dt = time[1] - time[0]\n",
    "#     N = len(signal)\n",
    "#     fs = 1/dt\n",
    "#     print(dt,fs)\n",
    "#     variance = np.std(signal)**2\n",
    "#     f_values, fft_values = get_fft_values(signal, dt, N, fs)\n",
    "#     print(fft_values)\n",
    "#     fft_power = variance * abs(fft_values) ** 2\n",
    "#     if plot_direction == 'horizontal':\n",
    "#         ax.plot(f_values, fft_values, 'r-', label='Fourier Transform')\n",
    "#         ax.plot(f_values, fft_power, 'k--', linewidth=1, label='FFT Power Spectrum')\n",
    "#     elif plot_direction == 'vertical':\n",
    "#         scales = 1./f_values\n",
    "#         scales_log = np.log2(scales)\n",
    "#         ax.plot(fft_values, scales_log, 'r-', label='Fourier Transform')\n",
    "#         ax.plot(fft_power, scales_log, 'k--', linewidth=1, label='FFT Power Spectrum')\n",
    "#         ax.set_yticks(np.log2(yticks))\n",
    "#         ax.set_yticklabels(yticks)\n",
    "#         ax.invert_yaxis()\n",
    "#         ax.set_ylim(20, -1)\n",
    "#     ax.legend()\n",
    "\n",
    "# fig, ax = plt.subplots(figsize=(12,3))\n",
    "# ax.set_xlabel('Frequency [Hz / year]', fontsize=18)\n",
    "# ax.set_ylabel('Amplitude', fontsize=18)\n",
    "# plot_fft_plus_power(ax, time, signal)\n",
    "# plt.show()\n",
    "dt = time[1] - time[0]\n",
    "N = len(signal)\n",
    "fs = 1/dt\n",
    "variance = np.std(signal)**2\n",
    "f_values, fft_values = get_fft_values(signal, dt, N, fs)\n",
    "plt.plot(f_values, fft_values, 'r-', label='Fourier Transform')\n",
    "\n"
   ]
  },
  {
   "cell_type": "code",
   "execution_count": null,
   "id": "24b6c5ca-c2c8-496a-9222-b9273d029f76",
   "metadata": {},
   "outputs": [],
   "source": [
    "n = len(time)\n",
    "dt = 1/12\n",
    "fhat = np.fft.fft(signal, n) #computes the fft\n",
    "psd = fhat * np.conj(fhat)/n\n",
    "freq = (1/(dt*n)) * np.arange(n) #frequency array\n",
    "idxs_half = np.arange(1, np.floor(n/2), dtype=np.int32) #first half index\n",
    "fig, ax = plt.subplots(2,1)\n",
    "ax[0].plot(time, signal, color='b', lw=0.5, label='Noisy Signal')\n",
    "ax[1].plot(freq[idxs_half], np.abs(psd[idxs_half]), color='b', lw=0.5, label='PSD noisy')\n",
    "ax[1].set_xlabel('Frequencies in Hz')\n",
    "ax[1].set_ylabel('Amplitude')\n",
    "ax[1].legend()"
   ]
  },
  {
   "cell_type": "code",
   "execution_count": null,
   "id": "1232c9ee-d1d9-40b7-9c07-0b26f94e9f2b",
   "metadata": {},
   "outputs": [],
   "source": [
    "import scaleogram as scg \n",
    "import pywt\n",
    "\n",
    "# choose default wavelet function for the entire notebook\n",
    "scg.set_default_wavelet('cmor1-1.5')"
   ]
  },
  {
   "cell_type": "code",
   "execution_count": null,
   "id": "8cd26607-504d-4f0e-a9d8-c170cc5e4e46",
   "metadata": {},
   "outputs": [],
   "source": [
    "scales = scg.periods2scales(np.arange(1.0, 20))\n",
    "scg.cws(signal, scales=scales, figsize=(6.9,2.3)); "
   ]
  },
  {
   "cell_type": "code",
   "execution_count": null,
   "id": "4e048834-f527-4401-8e01-578e4b622af3",
   "metadata": {},
   "outputs": [],
   "source": [
    "scales = scg.periods2scales(np.arange(1.0, 20))\n",
    "scg.cws(signal_24, scales=scales, figsize=(6.9,2.3)); "
   ]
  }
 ],
 "metadata": {
  "kernelspec": {
   "display_name": "Python 3 (ipykernel)",
   "language": "python",
   "name": "python3"
  },
  "language_info": {
   "codemirror_mode": {
    "name": "ipython",
    "version": 3
   },
   "file_extension": ".py",
   "mimetype": "text/x-python",
   "name": "python",
   "nbconvert_exporter": "python",
   "pygments_lexer": "ipython3",
   "version": "3.9.7"
  }
 },
 "nbformat": 4,
 "nbformat_minor": 5
}
